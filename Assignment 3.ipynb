{
 "cells": [
  {
   "cell_type": "code",
   "execution_count": 8,
   "id": "8369435a-64e9-4045-a299-9a54ee2bd56e",
   "metadata": {},
   "outputs": [],
   "source": [
    "#1\n",
    "# def keyword is used to create a function\n",
    "def odd_numbers():\n",
    "    l=[]\n",
    "    for i in range(1,26):\n",
    "        if i%2!=0:\n",
    "            l.append(i)\n",
    "    return l"
   ]
  },
  {
   "cell_type": "code",
   "execution_count": 9,
   "id": "b31110c5-f074-4754-9abe-ef53609988d3",
   "metadata": {},
   "outputs": [
    {
     "data": {
      "text/plain": [
       "[1, 3, 5, 7, 9, 11, 13, 15, 17, 19, 21, 23, 25]"
      ]
     },
     "execution_count": 9,
     "metadata": {},
     "output_type": "execute_result"
    }
   ],
   "source": [
    "odd_numbers()"
   ]
  },
  {
   "cell_type": "code",
   "execution_count": 12,
   "id": "c325305e-961e-434c-8ccc-48f253dc12cb",
   "metadata": {},
   "outputs": [],
   "source": [
    "#2\n",
    "# In Python, *args and **kwargs are used as parameters in function definitions to allow the function to accept a variable number\n",
    "# of arguments.\n",
    "# They allow you to pass multiple arguments to a function without specifying the exact number of arguments beforehand. \n",
    "# *args parameter collects all the positional arguments into a tuple within the function.\n",
    "# **kwargs parameter collects all the keyword arguments into a dictionary within the function.\n",
    "# For example :  "
   ]
  },
  {
   "cell_type": "code",
   "execution_count": 14,
   "id": "6490343e-11bd-4f27-b6e8-5e092a5d3da0",
   "metadata": {},
   "outputs": [],
   "source": [
    "#*args\n",
    "def t(*args):\n",
    "    return args"
   ]
  },
  {
   "cell_type": "code",
   "execution_count": 15,
   "id": "38be4da0-3661-4f0c-b8b4-668d2968bf0b",
   "metadata": {},
   "outputs": [
    {
     "data": {
      "text/plain": [
       "(1, 2, 3, 4)"
      ]
     },
     "execution_count": 15,
     "metadata": {},
     "output_type": "execute_result"
    }
   ],
   "source": [
    "t(1,2,3,4)"
   ]
  },
  {
   "cell_type": "code",
   "execution_count": 16,
   "id": "f6369a26-d577-4865-92b2-66fc687d3359",
   "metadata": {},
   "outputs": [],
   "source": [
    "#**kwargs\n",
    "def k(**kwargs):\n",
    "    return kwargs"
   ]
  },
  {
   "cell_type": "code",
   "execution_count": 18,
   "id": "70b0cad4-1ffa-4d27-9020-3a7f043e0fd4",
   "metadata": {},
   "outputs": [
    {
     "data": {
      "text/plain": [
       "{'a': 'sunflower', 'b': [1, 2, 3, 4], 'c': 45.68}"
      ]
     },
     "execution_count": 18,
     "metadata": {},
     "output_type": "execute_result"
    }
   ],
   "source": [
    "k(a=\"sunflower\", b=[1,2,3,4], c=45.68)"
   ]
  },
  {
   "cell_type": "code",
   "execution_count": 20,
   "id": "80e34188-52e5-4703-b627-5fb4a0af5fa7",
   "metadata": {},
   "outputs": [
    {
     "name": "stdout",
     "output_type": "stream",
     "text": [
      "2\n",
      "4\n",
      "6\n",
      "8\n",
      "10\n"
     ]
    }
   ],
   "source": [
    "#3\n",
    "# In Python, an iterator provides an interface for accessing elements of a collection one at a time, without needing to know the \n",
    "# underlying details of how the iteration is implemented.\n",
    "# the method used to initialise the iterator object and the method used for iteration are as follows:\n",
    "# 1. Initialization Method: iter()\n",
    "#                           The iter() function is used to initialize an iterator object. It takes an iterable as an argument \n",
    "#                           and returns an iterator object associated with that iterable. The iterator object keeps track of the \n",
    "#                           current position during iteration.\n",
    "# 2. Iteration Method: next()\n",
    "#                      The next() function is used to fetch the next element from the iterator. It retrieves the next item from\n",
    "#                      the iterator and advances the iterator's internal state. If there are no more items, it raises the \n",
    "#                      Stop Iteration exception.\n",
    "my_list=[2, 4, 6, 8, 10, 12, 14, 16, 18, 20]\n",
    "my_iterator=iter(my_list)\n",
    "for i in range(0,5):\n",
    "    element=next(my_iterator)\n",
    "    print(element)"
   ]
  },
  {
   "cell_type": "code",
   "execution_count": 21,
   "id": "06d41bec-f907-4816-a463-124e3f9f7912",
   "metadata": {},
   "outputs": [],
   "source": [
    "#4\n",
    "# A generator function is defined like a regular function, but instead of using the return statement to return a value and \n",
    "# terminate the function, it uses the yield keyword to temporarily suspend the function's execution and yield a value to the caller\n",
    "\n",
    "# The yield keyword is used in generator functions to define the points at which the function should pause and return a value to \n",
    "# the caller. When the generator function encounters a yield statement, it yields the specified value, suspends its execution, and\n",
    "# saves its internal state.\n",
    "\n",
    "def test_fib(n):\n",
    "    a,b=0,1\n",
    "    for i in range(n):\n",
    "        yield a\n",
    "        a,b= b, a+b   "
   ]
  },
  {
   "cell_type": "code",
   "execution_count": 25,
   "id": "4f9fc916-d326-48f3-a831-512fe8f81f22",
   "metadata": {},
   "outputs": [
    {
     "name": "stdout",
     "output_type": "stream",
     "text": [
      "0\n",
      "1\n",
      "1\n",
      "2\n",
      "3\n",
      "5\n",
      "8\n",
      "13\n",
      "21\n",
      "34\n"
     ]
    }
   ],
   "source": [
    "for i in test_fib(10):\n",
    "    print(i)"
   ]
  },
  {
   "cell_type": "code",
   "execution_count": 31,
   "id": "04de4382-78d2-436d-bf58-1f41c0c1d5e6",
   "metadata": {},
   "outputs": [
    {
     "name": "stdout",
     "output_type": "stream",
     "text": [
      "2\n",
      "3\n",
      "5\n",
      "7\n",
      "11\n",
      "13\n",
      "17\n",
      "19\n",
      "23\n",
      "29\n",
      "31\n",
      "37\n",
      "41\n",
      "43\n",
      "47\n",
      "53\n",
      "59\n",
      "61\n",
      "67\n",
      "71\n"
     ]
    }
   ],
   "source": [
    "#5\n",
    "def prime_generator():\n",
    "    primes=[]\n",
    "    num=2\n",
    "    while True:\n",
    "        if all (num % prime!=0 for prime in primes):\n",
    "            primes.append(num)\n",
    "            yield num\n",
    "        num+=1\n",
    "prime_gen = prime_generator()\n",
    "for _ in range(20):\n",
    "        prime_num=next(prime_gen)\n",
    "        print(prime_num)"
   ]
  },
  {
   "cell_type": "code",
   "execution_count": 32,
   "id": "13a986ac-5cf9-4237-8e07-49b06bd50a98",
   "metadata": {},
   "outputs": [
    {
     "name": "stdout",
     "output_type": "stream",
     "text": [
      "0\n",
      "1\n",
      "1\n",
      "2\n",
      "3\n",
      "5\n",
      "8\n",
      "13\n",
      "21\n",
      "34\n"
     ]
    }
   ],
   "source": [
    "#6\n",
    "def print_fibonacci():\n",
    "    count = 0\n",
    "    a, b = 0, 1\n",
    "\n",
    "    while count < 10:\n",
    "        print(a)\n",
    "        a, b = b, a + b\n",
    "        count += 1\n",
    "\n",
    "print_fibonacci()"
   ]
  },
  {
   "cell_type": "code",
   "execution_count": 34,
   "id": "90ac917c-f437-485a-8ca5-5dad4eab4388",
   "metadata": {},
   "outputs": [
    {
     "data": {
      "text/plain": [
       "['p', 'w', 's', 'k', 'i', 'l', 'l', 's']"
      ]
     },
     "execution_count": 34,
     "metadata": {},
     "output_type": "execute_result"
    }
   ],
   "source": [
    "#7\n",
    "s=\"pwskills\"\n",
    "list(map(lambda s: s.lower(), s))"
   ]
  },
  {
   "cell_type": "code",
   "execution_count": 37,
   "id": "580a4e48-9e58-4855-b118-9928e4359dbb",
   "metadata": {},
   "outputs": [
    {
     "name": "stdin",
     "output_type": "stream",
     "text": [
      "Enter a number:  8\n"
     ]
    },
    {
     "name": "stdout",
     "output_type": "stream",
     "text": [
      "8 is a palindrome.\n"
     ]
    }
   ],
   "source": [
    "#8\n",
    "def is_palindrome(n):\n",
    "    original_number = n\n",
    "    reverse_number = 0\n",
    "\n",
    "    while n > 0:\n",
    "        digit = n % 10\n",
    "        reverse_number = reverse_number * 10 + digit\n",
    "        n = n // 10\n",
    "\n",
    "    if original_number == reverse_number:\n",
    "        return True\n",
    "    else:\n",
    "        return False\n",
    "\n",
    "n = int(input(\"Enter a number: \"))\n",
    "if is_palindrome(n):\n",
    "    print(f\"{n} is a palindrome.\")\n",
    "else:\n",
    "    print(f\"{n} is not a palindrome.\")\n"
   ]
  },
  {
   "cell_type": "code",
   "execution_count": 40,
   "id": "5f3fcc06-7eb5-4d0b-8d75-82f3445aa8dc",
   "metadata": {},
   "outputs": [
    {
     "name": "stdout",
     "output_type": "stream",
     "text": [
      "[1, 3, 5, 7, 9, 11, 13, 15, 17, 19, 21, 23, 25, 27, 29, 31, 33, 35, 37, 39, 41, 43, 45, 47, 49, 51, 53, 55, 57, 59, 61, 63, 65, 67, 69, 71, 73, 75, 77, 79, 81, 83, 85, 87, 89, 91, 93, 95, 97, 99]\n"
     ]
    }
   ],
   "source": [
    "#9\n",
    "odd_numbers=[num for num in range(1,101) if num%2!=0]\n",
    "print(odd_numbers)"
   ]
  }
 ],
 "metadata": {
  "kernelspec": {
   "display_name": "Python 3 (ipykernel)",
   "language": "python",
   "name": "python3"
  },
  "language_info": {
   "codemirror_mode": {
    "name": "ipython",
    "version": 3
   },
   "file_extension": ".py",
   "mimetype": "text/x-python",
   "name": "python",
   "nbconvert_exporter": "python",
   "pygments_lexer": "ipython3",
   "version": "3.10.8"
  }
 },
 "nbformat": 4,
 "nbformat_minor": 5
}
